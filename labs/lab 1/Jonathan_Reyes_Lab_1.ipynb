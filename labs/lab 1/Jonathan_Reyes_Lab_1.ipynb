{
 "cells": [
  {
   "cell_type": "markdown",
   "id": "db854376",
   "metadata": {},
   "source": [
    "# Name: Jonathan Reyes\n",
    "# Lab 1\n",
    "# Course: COSC 3337"
   ]
  },
  {
   "cell_type": "code",
   "execution_count": 1,
   "id": "9f7ff1fb-8482-45c3-a2c5-34c47308dc2a",
   "metadata": {},
   "outputs": [],
   "source": [
    "import numpy as np"
   ]
  },
  {
   "cell_type": "markdown",
   "id": "79641402",
   "metadata": {},
   "source": [
    "\n",
    " ### For this task, in the next code cell, how would you:\n",
    " ### a)create a python list with elements of the same data type from including 1 to including 5 (as below)?\n",
    " ### b)print the python list?\n",
    " ### c)print the type of python list using the syntax print(type(variable_name))?\n",
    " ### ( 6 points )"
   ]
  },
  {
   "cell_type": "code",
   "execution_count": 2,
   "id": "a9934399-ea0d-496f-ad97-0caa747de993",
   "metadata": {},
   "outputs": [
    {
     "name": "stdout",
     "output_type": "stream",
     "text": [
      "[1, 2, 3, 4, 5]\n",
      "<class 'list'>\n"
     ]
    }
   ],
   "source": [
    "\"\"\" Creating Arrays and Common Methods \"\"\"\n",
    "#a)create a python list with elements of the same data type from including 1 to including 5 (as below)?\n",
    "python_list = [1, 2, 3, 4,5]\n",
    "\n",
    "#b)print the python list?\n",
    "\n",
    "print(python_list)\n",
    "\n",
    "#c)print the type of python list using the syntax print(type(variable_name))?\n",
    "print(type(python_list))\n",
    "\n"
   ]
  },
  {
   "cell_type": "markdown",
   "id": "309cb931",
   "metadata": {},
   "source": [
    "### For this task, in the next code cell:\n",
    " ### a)convert your previous python list to a numpy array.\n",
    " ### b)print the numpy array\n",
    " ### c)print the type of numpy array using the syntax print(type(variable_name))\n",
    " ### ( 6 points )"
   ]
  },
  {
   "cell_type": "code",
   "execution_count": 3,
   "id": "e6e58416-a228-489d-97f0-996e026b3531",
   "metadata": {},
   "outputs": [
    {
     "name": "stdout",
     "output_type": "stream",
     "text": [
      "[1 2 3 4 5]\n",
      "<class 'numpy.ndarray'>\n"
     ]
    }
   ],
   "source": [
    "#a)convert your previous python list to a numpy array.\n",
    "numpy_arr = np.array(python_list)\n",
    "\n",
    "#b)print the numpy array\n",
    "print(numpy_arr)\n",
    "\n",
    "#c)print the type of numpy array using the syntax print(type(variable_name))\n",
    "print(type(numpy_arr))"
   ]
  },
  {
   "cell_type": "markdown",
   "id": "4e40c84f",
   "metadata": {},
   "source": [
    " ### For this task, in the next code cell:\n",
    " ### a)create a 2d python array with elements of the same data type. Do not use the previous numbers\n",
    " ### b)print the python array\n",
    " ### c)print the type of python array using the syntax print(type(variable_name))\n",
    " ### ( 6 points )"
   ]
  },
  {
   "cell_type": "code",
   "execution_count": 4,
   "id": "e10d1d26-0f1b-4dfa-aa42-2c401e8f1b46",
   "metadata": {},
   "outputs": [
    {
     "name": "stdout",
     "output_type": "stream",
     "text": [
      "[[6, 7, 8], [9, 10, 11], [12, 13, 14]]\n",
      "<class 'list'>\n"
     ]
    }
   ],
   "source": [
    "#a)create a 2d python array with elements of the same data type. Do not use the previous numbers\n",
    "python_2d = [[6,7,8],[9,10,11],[12,13,14]]\n",
    "\n",
    "#b)print the python array\n",
    "print(python_2d)\n",
    "#c)print the type of python array using the syntax print(type(variable_name))\n",
    "print(type(python_2d))"
   ]
  },
  {
   "cell_type": "markdown",
   "id": "a5ac78af",
   "metadata": {},
   "source": [
    " ### For this task, in the next code cell:\n",
    " ### a)convert the python_2d_array variable into a numpy array.\n",
    " ### b)print the numpy array\n",
    " ### c)print the type of numpy array using the syntax print(type(variable_name))\n",
    " ### ( 6 points )"
   ]
  },
  {
   "cell_type": "code",
   "execution_count": 5,
   "id": "a7775d41-fbe4-458f-810c-41d937d26110",
   "metadata": {},
   "outputs": [
    {
     "name": "stdout",
     "output_type": "stream",
     "text": [
      "[[ 6  7  8]\n",
      " [ 9 10 11]\n",
      " [12 13 14]]\n",
      "<class 'numpy.ndarray'>\n"
     ]
    }
   ],
   "source": [
    "# a)convert the python_2d_array variable into a numpy array.\n",
    "numpy_2d = np.array(python_2d)\n",
    "\n",
    "# b)print the numpy array\n",
    "print(numpy_2d)\n",
    "\n",
    "# c)print the type of numpy array using the syntax print(type(variable_name))\n",
    "print(type(numpy_2d))"
   ]
  },
  {
   "cell_type": "markdown",
   "id": "ffbcb6c3",
   "metadata": {},
   "source": [
    "### For example, create numpy array where the start is 0 and stop is 15. Try itin the next code cell.\n",
    "### ( 2 points )"
   ]
  },
  {
   "cell_type": "code",
   "execution_count": 6,
   "id": "ea1d4f53-c7f3-493c-b41a-66294d690965",
   "metadata": {},
   "outputs": [
    {
     "data": {
      "text/plain": [
       "array([ 0,  1,  2,  3,  4,  5,  6,  7,  8,  9, 10, 11, 12, 13, 14])"
      ]
     },
     "execution_count": 6,
     "metadata": {},
     "output_type": "execute_result"
    }
   ],
   "source": [
    "#For example, create numpy array where the start is 0 and stop is 15. Try it in the next code cell.\n",
    "np.arange(0,15)\n",
    "#print(numpy_arr)"
   ]
  },
  {
   "cell_type": "markdown",
   "id": "ab7d697d",
   "metadata": {},
   "source": [
    "### For this task, in the next code cell:\n",
    " ### a)create a numpy array from 0 (start) to 15 (stop) with step size of 2.\n",
    " ### ( 2 points )"
   ]
  },
  {
   "cell_type": "code",
   "execution_count": 7,
   "id": "37ab1197-6a19-4316-ac5e-37ff5ad2d920",
   "metadata": {},
   "outputs": [
    {
     "data": {
      "text/plain": [
       "array([ 0,  2,  4,  6,  8, 10, 12, 14])"
      ]
     },
     "execution_count": 7,
     "metadata": {},
     "output_type": "execute_result"
    }
   ],
   "source": [
    "#a)create a numpy array from 0 (start) to 15 (stop) with step size of 2.\n",
    "np.arange(0,15,2)"
   ]
  },
  {
   "cell_type": "markdown",
   "id": "9f692d99",
   "metadata": {},
   "source": [
    "### In the next code cell, how would you create a 2d numpy array with step size 1 into a 5x3 matrix?\n",
    " ### ( 2 points )"
   ]
  },
  {
   "cell_type": "code",
   "execution_count": 8,
   "id": "308a2777-534b-42d2-be93-1c01808688fa",
   "metadata": {},
   "outputs": [
    {
     "data": {
      "text/plain": [
       "array([[ 0,  1,  2],\n",
       "       [ 3,  4,  5],\n",
       "       [ 6,  7,  8],\n",
       "       [ 9, 10, 11],\n",
       "       [12, 13, 14]])"
      ]
     },
     "execution_count": 8,
     "metadata": {},
     "output_type": "execute_result"
    }
   ],
   "source": [
    "#In the next code cell, how would you create a 2d numpy array with step size 1 into a 5x3 matrix?\n",
    "np.arange(0,15).reshape(5,3)"
   ]
  },
  {
   "cell_type": "markdown",
   "id": "528947d9",
   "metadata": {},
   "source": [
    " ### In the next two cells:\n",
    " ### 1)Create a numpy array of all (15) zeros\n",
    " ### 2)Create a 3x5 numpy array of a total of 15 zeros.\n",
    " ### 3,4) Do the same for 1s.\n",
    " ### ( 16 points )"
   ]
  },
  {
   "cell_type": "code",
   "execution_count": 9,
   "id": "ec33dffd-370a-464a-bd2a-5c5f00e9d718",
   "metadata": {},
   "outputs": [
    {
     "name": "stdout",
     "output_type": "stream",
     "text": [
      "[0. 0. 0. 0. 0. 0. 0. 0. 0. 0. 0. 0. 0. 0. 0.]\n",
      "\n",
      "[[0. 0. 0. 0. 0.]\n",
      " [0. 0. 0. 0. 0.]\n",
      " [0. 0. 0. 0. 0.]]\n",
      "\n",
      "[1. 1. 1. 1. 1. 1. 1. 1. 1. 1. 1. 1. 1. 1. 1.]\n",
      "\n",
      "[[1. 1. 1. 1. 1.]\n",
      " [1. 1. 1. 1. 1.]\n",
      " [1. 1. 1. 1. 1.]]\n"
     ]
    }
   ],
   "source": [
    "#1)Create a numpy array of all (15) zeros\n",
    "print(np.zeros(15))\n",
    "print('')\n",
    "\n",
    "#2)Create a 3x5 numpy array of a total of 15 zeros.\n",
    "print(np.zeros(15).reshape(3,5))\n",
    "print('')\n",
    "#3,4) Do the same for 1s.\n",
    "print(np.ones(15))\n",
    "print('')\n",
    "print(np.ones(15).reshape(3,5))"
   ]
  },
  {
   "cell_type": "markdown",
   "id": "686d57a5",
   "metadata": {},
   "source": [
    "###  In the next code cell, how would you create a 3x3 zeros numpy array with data type integer?\n",
    " ### ( 2 points )"
   ]
  },
  {
   "cell_type": "code",
   "execution_count": 10,
   "id": "b8eaae63-91a9-47aa-b479-7b4e285c75a3",
   "metadata": {},
   "outputs": [
    {
     "data": {
      "text/plain": [
       "array([[0, 0, 0],\n",
       "       [0, 0, 0],\n",
       "       [0, 0, 0]])"
      ]
     },
     "execution_count": 10,
     "metadata": {},
     "output_type": "execute_result"
    }
   ],
   "source": [
    "# In the next code cell, how would you create a 3x3 zeros numpy array with data type integer?\n",
    "np.zeros(9, dtype=int).reshape(3,3)"
   ]
  },
  {
   "cell_type": "markdown",
   "id": "369cb8c5",
   "metadata": {},
   "source": [
    "### Using the previously learned syntax, how would you create a 5x5 matrix with ones on the diagonal and zeros elsewhere? (hint: this is 'n')\n",
    " ### ( 2 points )"
   ]
  },
  {
   "cell_type": "code",
   "execution_count": 11,
   "id": "e97a3294-7401-4f64-a871-cc947e64c140",
   "metadata": {},
   "outputs": [
    {
     "data": {
      "text/plain": [
       "array([[1, 0, 0, 0, 0],\n",
       "       [0, 1, 0, 0, 0],\n",
       "       [0, 0, 1, 0, 0],\n",
       "       [0, 0, 0, 1, 0],\n",
       "       [0, 0, 0, 0, 1]])"
      ]
     },
     "execution_count": 11,
     "metadata": {},
     "output_type": "execute_result"
    }
   ],
   "source": [
    "# Using the previously learned syntax, how would you create a 5x5 matrix with ones on the diagonal and zeros elsewhere? (hint: this is 'n')\n",
    "np.eye(5, dtype=int)"
   ]
  },
  {
   "cell_type": "markdown",
   "id": "b764acad",
   "metadata": {},
   "source": [
    "### What would you replace the '???' with to get the statement below?\n",
    " ### ( 4 points )"
   ]
  },
  {
   "cell_type": "code",
   "execution_count": 12,
   "id": "8643f314-976a-4bda-aeb4-448bee47859c",
   "metadata": {},
   "outputs": [
    {
     "name": "stdout",
     "output_type": "stream",
     "text": [
      "[[78  7  4 90 91]\n",
      " [12  3 43 21 24]\n",
      " [22 96 94 36 49]\n",
      " [48 66 87 25 56]]\n",
      "The smallest value in A is 3, and is a located at position 6\n",
      "The largest value in A is 96, and is a located at position 11\n"
     ]
    }
   ],
   "source": [
    "#What would you replace the '???' with to get the statement below?\n",
    "A = np.random.randint(0, 100, 20).reshape(4, 5)\n",
    "print(A)\n",
    "print(f'The smallest value in A is {A.min()}, and is a located at position {A.argmin()}')\n",
    "print(f'The largest value in A is {A.max()}, and is a located at position {A.argmax()}')"
   ]
  },
  {
   "cell_type": "markdown",
   "id": "3bc01dda",
   "metadata": {},
   "source": [
    " ### Given the above code cell, in the next code cells, how would you:\n",
    " ### i)Add A and B?\n",
    " ### ii)Add 5 to A (this means for all values of A)\n",
    " ### iii)Subtract B from A\n",
    " ### iv)Subtract 5 from A\n",
    " ### v)Multiply A with B\n",
    " ### vi)Multiply A with 5\n",
    " ### vii)Divide B from A\n",
    " ### viii)Divide 2 from A\n",
    " ### ( 24 points )"
   ]
  },
  {
   "cell_type": "code",
   "execution_count": 13,
   "id": "a5636fa1-9a82-4043-a900-36dc68a2a481",
   "metadata": {},
   "outputs": [
    {
     "name": "stdout",
     "output_type": "stream",
     "text": [
      "[ 2  5  8 11 14 17 20 23 26 29 32 35 38 41 44]\n",
      "\n",
      "[ 6  7  8  9 10 11 12 13 14 15 16 17 18 19 20]\n",
      "\n",
      "[  0  -1  -2  -3  -4  -5  -6  -7  -8  -9 -10 -11 -12 -13 -14]\n",
      "\n",
      "[-4 -3 -2 -1  0  1  2  3  4  5  6  7  8  9 10]\n",
      "\n",
      "[  1   6  15  28  45  66  91 120 153 190 231 276 325 378 435]\n",
      "\n",
      "[ 5 10 15 20 25 30 35 40 45 50 55 60 65 70 75]\n",
      "\n",
      "[1.         0.66666667 0.6        0.57142857 0.55555556 0.54545455\n",
      " 0.53846154 0.53333333 0.52941176 0.52631579 0.52380952 0.52173913\n",
      " 0.52       0.51851852 0.51724138]\n",
      "\n",
      "[0.5 1.  1.5 2.  2.5 3.  3.5 4.  4.5 5.  5.5 6.  6.5 7.  7.5]\n"
     ]
    }
   ],
   "source": [
    "A = np.arange(1, 16)\n",
    "B = np.arange(1, 30, 2)\n",
    "C = np.arange(0, 4).reshape(2, 2)\n",
    "D = np.arange(0, 4).reshape(2, 2)\n",
    "E = np.arange(1, 16).reshape(3, 5)\n",
    "F = np.arange(11)\n",
    "\n",
    "#Given the above code cell, in the next code cells, how would you:\n",
    " #i)Add A and B?\n",
    "print(A + B)\n",
    "print('')\n",
    " #ii)Add 5 to A (this means for all values of A)\n",
    "print(A + 5)\n",
    "print('')\n",
    " #iii)Subtract B from A\n",
    "print(A - B)\n",
    "print('')\n",
    " #iv)Subtract 5 from A\n",
    "print(A - 5)\n",
    "print('')\n",
    " #v)Multiply A with B\n",
    "print(A * B)\n",
    "print('')\n",
    " #vi)Multiply A with 5\n",
    "print(A * 5)\n",
    "print('')\n",
    " #vii)Divide B from A\n",
    "print(A / B)\n",
    "print('')\n",
    " #viii)Divide 2 from A\n",
    "print(A / 2)"
   ]
  },
  {
   "cell_type": "markdown",
   "id": "33f1d25e",
   "metadata": {},
   "source": [
    "###  Try changing the -1 to F in the example below and see what happens? Explain why this occurs\n",
    " ### ( 2 points )"
   ]
  },
  {
   "cell_type": "code",
   "execution_count": 14,
   "id": "46e77f9e-8714-4591-a3ac-35c69c43c8ca",
   "metadata": {},
   "outputs": [
    {
     "name": "stdout",
     "output_type": "stream",
     "text": [
      "[ -1 100  -1 300  -1 500  -1 700  -1 900  -1]\n",
      "\n",
      "[  0 100   2 300   4 500   6 700   8 900  10]\n"
     ]
    }
   ],
   "source": [
    "#Try changing the -1 to F in the example below and see what happens? Explain why this occurs\n",
    "print(np.where(F%2 == 0, -1, F*100))\n",
    "print('')\n",
    "print(np.where(F%2 == 0, F, F*100))\n",
    "\n",
    "# In the code above when we replace the -1 value with F we are basically changing the input of the value that would \n",
    "# change the array if the (F % 2 == 0) operation comes out to be true when parsing through the array, which is why we \n",
    "# can see the values (0,2,4,6,10) at the relative indexes where in the original code we would see the value -1\n"
   ]
  },
  {
   "cell_type": "markdown",
   "id": "b1d1a854",
   "metadata": {},
   "source": [
    "###  Using the previous example, how would you complete the rest of the print statements to give the desired results as shown below?\n",
    " ### ( 2 points )"
   ]
  },
  {
   "cell_type": "code",
   "execution_count": 15,
   "id": "f57903a8-9f8b-47b3-9140-e17ebe0786f9",
   "metadata": {},
   "outputs": [
    {
     "name": "stdout",
     "output_type": "stream",
     "text": [
      "A[0]: 0\n",
      "A[5]: 5\n",
      "A[14]: 14\n"
     ]
    }
   ],
   "source": [
    "#Using the previous example, how would you complete the rest of the print statements to give the desired results as shown below?\n",
    "A = np.arange(15)\n",
    "print(f'A[0]: {A[0]}')\n",
    "print(f'A[5]: {A[5]}')\n",
    "print(f'A[14]: {A[14]}')"
   ]
  },
  {
   "cell_type": "markdown",
   "id": "816b285a",
   "metadata": {},
   "source": [
    "###  In the next cell, modify A such that the first 5 elements are 0.\n",
    " ### ( 2 points )"
   ]
  },
  {
   "cell_type": "code",
   "execution_count": 16,
   "id": "44028129-881b-4f83-89c6-e41493233740",
   "metadata": {},
   "outputs": [
    {
     "data": {
      "text/plain": [
       "array([ 0,  0,  0,  0,  0,  5,  6,  7,  8,  9, 10, 11, 12, 13, 14])"
      ]
     },
     "execution_count": 16,
     "metadata": {},
     "output_type": "execute_result"
    }
   ],
   "source": [
    "#In the next cell, modify A such that the first 5 elements are 0.\n",
    "A[0:5] = 0\n",
    "A"
   ]
  },
  {
   "cell_type": "markdown",
   "id": "e77a3881",
   "metadata": {},
   "source": [
    "###  Obtaining a single element can be done using B[row, col]. How would you complete the following print statements to show the correct answer?\n",
    " ### ( 12 points )"
   ]
  },
  {
   "cell_type": "code",
   "execution_count": 17,
   "id": "4cf1ce07-d00f-4a63-b1b4-822b26824c8f",
   "metadata": {},
   "outputs": [
    {
     "name": "stdout",
     "output_type": "stream",
     "text": [
      "[[ 0  1  2  3  4  5  6  7  8  9]\n",
      " [10 11 12 13 14 15 16 17 18 19]\n",
      " [20 21 22 23 24 25 26 27 28 29]\n",
      " [30 31 32 33 34 35 36 37 38 39]\n",
      " [40 41 42 43 44 45 46 47 48 49]]\n",
      "0th row and 2nd col in B: 2\n",
      "3rd row and 3rd col in B: 33\n",
      "4th row and 2nd col in B: 42\n"
     ]
    }
   ],
   "source": [
    "#Obtaining a single element can be done using B[row, col]. How would you complete the following print statements to show the correct answer?\n",
    "B = np.arange(50).reshape(5, 10)\n",
    "print(B)\n",
    "print(f'0th row and 2nd col in B: {B[0, 2]}')\n",
    "print(f'3rd row and 3rd col in B: {B[3, 3]}')\n",
    "print(f'4th row and 2nd col in B: {B[4, 2]}')"
   ]
  },
  {
   "cell_type": "markdown",
   "id": "29735d09",
   "metadata": {},
   "source": [
    "###  How would you get a subset like this?\n",
    " ### [ [5, 6],\n",
    " ### [15, 16] ]\n",
    " ### ( 2 points )"
   ]
  },
  {
   "cell_type": "code",
   "execution_count": 18,
   "id": "60cf04ae-3816-4bb2-9fea-c12f805c9cb6",
   "metadata": {},
   "outputs": [
    {
     "data": {
      "text/plain": [
       "array([[ 5,  6],\n",
       "       [15, 16]])"
      ]
     },
     "execution_count": 18,
     "metadata": {},
     "output_type": "execute_result"
    }
   ],
   "source": [
    "# How would you get a subset like this?\n",
    "#[ [5, 6],\n",
    "#[15, 16] ]\n",
    "\n",
    "B[0:2, 5:7]"
   ]
  },
  {
   "cell_type": "markdown",
   "id": "8e9ee394",
   "metadata": {},
   "source": [
    "###  In the next cells, how would you:\n",
    " ### a)Return the array where the numbers divisible by 3 are True and the rest are False? Hint see how we did C%2==0\n",
    "### b)Return how many True were found? Hint see how we did in the above cell.\n",
    " ### ( 2 points )"
   ]
  },
  {
   "cell_type": "code",
   "execution_count": 19,
   "id": "52df91cb-7c17-4a62-ab3d-a9fbf6042ef6",
   "metadata": {},
   "outputs": [
    {
     "name": "stdout",
     "output_type": "stream",
     "text": [
      "[[ 0  1  2  3  4]\n",
      " [ 5  6  7  8  9]\n",
      " [10 11 12 13 14]\n",
      " [15 16 17 18 19]\n",
      " [20 21 22 23 24]\n",
      " [25 26 27 28 29]\n",
      " [30 31 32 33 34]\n",
      " [35 36 37 38 39]\n",
      " [40 41 42 43 44]\n",
      " [45 46 47 48 49]]\n",
      "\n",
      "[[ True False False  True False]\n",
      " [False  True False False  True]\n",
      " [False False  True False False]\n",
      " [ True False False  True False]\n",
      " [False  True False False  True]\n",
      " [False False  True False False]\n",
      " [ True False False  True False]\n",
      " [False  True False False  True]\n",
      " [False False  True False False]\n",
      " [ True False False  True False]]\n",
      "Sum of all true: 17\n"
     ]
    }
   ],
   "source": [
    "\"\"\" Boolean Array Indexing \"\"\"\n",
    "C = np.arange(50).reshape(10, 5)\n",
    "print(C)\n",
    "print('')\n",
    "#a)Return the array where the numbers divisible by 3 are True and the rest are False? Hint see how we did C%2==0\n",
    "print(C%3==0)\n",
    "#b)Return how many True were found? Hint see how we did in the above cell.\n",
    "print(f'Sum of all true: {(C%3==0).sum()}')"
   ]
  }
 ],
 "metadata": {
  "kernelspec": {
   "display_name": "Python 3",
   "language": "python",
   "name": "python3"
  },
  "language_info": {
   "codemirror_mode": {
    "name": "ipython",
    "version": 3
   },
   "file_extension": ".py",
   "mimetype": "text/x-python",
   "name": "python",
   "nbconvert_exporter": "python",
   "pygments_lexer": "ipython3",
   "version": "3.12.4"
  }
 },
 "nbformat": 4,
 "nbformat_minor": 5
}
