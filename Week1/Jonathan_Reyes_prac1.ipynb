{
 "cells": [
  {
   "cell_type": "markdown",
   "metadata": {},
   "source": [
    "# <h1><center>Week 1 Lab (NumPy)</center></h1>\n",
    "## <h1><center>COSC 3337 Dr. Rizk</center></h1>"
   ]
  },
  {
   "cell_type": "markdown",
   "metadata": {},
   "source": [
    "## Intro to NumPy"
   ]
  },
  {
   "cell_type": "markdown",
   "metadata": {},
   "source": [
    "NumPy is the fundamental package for scientific computing with Python. It's used for working with arrays and contains functions for working in the domain of linear algebra, fourier transform, and matrices. In Python we have list, which serve the purpose of arrays, so why do we bother learning NumPy in the first place? Well, NumPy arrays are much faster than traditional Python lists and provide many supporting functions that make working with arrays easier. Part of why they're significantly faster is because the parts that require fast computation are written in C or C++."
   ]
  },
  {
   "cell_type": "markdown",
   "metadata": {},
   "source": [
    "Let's begin by importing pandas and learning about the Series data type. If for some reason you don't have pandas installed, you will first have to go to your terminal (or Anaconda Prompt if on Windows) and enter the following:\n",
    "\n",
    "    conda install numpy\n",
    "    \n",
    "Make sure you've already installed [Anaconda](https://www.anaconda.com/)"
   ]
  },
  {
   "cell_type": "code",
   "execution_count": 30,
   "metadata": {},
   "outputs": [],
   "source": [
    "import numpy as np"
   ]
  },
  {
   "cell_type": "markdown",
   "metadata": {},
   "source": [
    "### Creating Arrays and Common Methods"
   ]
  },
  {
   "cell_type": "markdown",
   "metadata": {},
   "source": [
    "The first way of creating a NumPy array is by converting your existing Python list."
   ]
  },
  {
   "cell_type": "code",
   "execution_count": 31,
   "metadata": {},
   "outputs": [
    {
     "name": "stdout",
     "output_type": "stream",
     "text": [
      "[1, 2, 3, 4, 5]\n",
      "<class 'list'>\n"
     ]
    }
   ],
   "source": [
    "python_list = [1, 2, 3, 4, 5]\n",
    "print(python_list)\n",
    "print(type(python_list))"
   ]
  },
  {
   "cell_type": "code",
   "execution_count": 32,
   "metadata": {},
   "outputs": [
    {
     "name": "stdout",
     "output_type": "stream",
     "text": [
      "[1 2 3 4 5]\n",
      "<class 'numpy.ndarray'>\n"
     ]
    }
   ],
   "source": [
    "numpy_array = np.array(python_list)\n",
    "print(numpy_array)\n",
    "print(type(numpy_array))"
   ]
  },
  {
   "cell_type": "markdown",
   "metadata": {},
   "source": [
    "### Different examples"
   ]
  },
  {
   "cell_type": "code",
   "execution_count": 33,
   "metadata": {},
   "outputs": [
    {
     "name": "stdout",
     "output_type": "stream",
     "text": [
      "[10, 22, 3, 47, 54]\n",
      "<class 'list'>\n",
      "[10 22  3 47 54]\n",
      "<class 'numpy.ndarray'>\n"
     ]
    }
   ],
   "source": [
    "\"\"\" Different example \"\"\"\n",
    "python_list = [10, 22, 3, 47, 54]\n",
    "print(python_list)\n",
    "print(type(python_list))\n",
    "\n",
    "numpy_array = np.array(python_list)\n",
    "print(numpy_array)\n",
    "print(type(numpy_array))"
   ]
  },
  {
   "cell_type": "code",
   "execution_count": 34,
   "metadata": {},
   "outputs": [
    {
     "name": "stdout",
     "output_type": "stream",
     "text": [
      "[[1, 2, 3, 4, 5], [6, 7, 8, 9, 10], [11, 12, 13, 14, 15]]\n",
      "<class 'list'>\n"
     ]
    }
   ],
   "source": [
    "python_2d_array = [[1, 2, 3, 4, 5], [6, 7, 8, 9, 10], [11, 12, 13, 14, 15]]\n",
    "print(python_2d_array)\n",
    "print(type(python_2d_array))"
   ]
  },
  {
   "cell_type": "code",
   "execution_count": 35,
   "metadata": {},
   "outputs": [
    {
     "name": "stdout",
     "output_type": "stream",
     "text": [
      "[[ 1  2  3  4  5]\n",
      " [ 6  7  8  9 10]\n",
      " [11 12 13 14 15]]\n",
      "<class 'numpy.ndarray'>\n"
     ]
    }
   ],
   "source": [
    "numpy_2d_array = np.array(python_2d_array)\n",
    "print(numpy_2d_array)\n",
    "print(type(numpy_2d_array))"
   ]
  },
  {
   "cell_type": "markdown",
   "metadata": {},
   "source": [
    "### Different examples"
   ]
  },
  {
   "cell_type": "code",
   "execution_count": 36,
   "metadata": {},
   "outputs": [
    {
     "name": "stdout",
     "output_type": "stream",
     "text": [
      "[[13, 2, 31, 47, 52], [6, 74, 82, 97, 10], [111, 12, 133, 124, 156]]\n",
      "<class 'list'>\n",
      "[[ 13   2  31  47  52]\n",
      " [  6  74  82  97  10]\n",
      " [111  12 133 124 156]]\n",
      "<class 'numpy.ndarray'>\n"
     ]
    }
   ],
   "source": [
    "\"\"\" Different example \"\"\"\n",
    "python_2d_array=[[13,2,31,47,52],[6,74,82,97,10],[111,12,133,124,156]]\n",
    "print(python_2d_array)\n",
    "print(type(python_2d_array))\n",
    "\n",
    "numpy_2d_array=np.array(python_2d_array)\n",
    "print(numpy_2d_array)\n",
    "print(type(numpy_2d_array))"
   ]
  },
  {
   "cell_type": "markdown",
   "metadata": {},
   "source": [
    "However, you are more likely to use some of NumPy's built in methods to generate ndarrays. Here we'll introduce you to a few of these built in methods."
   ]
  },
  {
   "cell_type": "markdown",
   "metadata": {},
   "source": [
    "***arange(start, stop, step)*** will return evenly spaced values within a given interval. The default step size is 1."
   ]
  },
  {
   "cell_type": "code",
   "execution_count": 37,
   "metadata": {},
   "outputs": [
    {
     "data": {
      "text/plain": [
       "array([ 0,  1,  2,  3,  4,  5,  6,  7,  8,  9, 10, 11, 12, 13, 14])"
      ]
     },
     "execution_count": 37,
     "metadata": {},
     "output_type": "execute_result"
    }
   ],
   "source": [
    "np.arange(0, 15)"
   ]
  },
  {
   "cell_type": "code",
   "execution_count": 38,
   "metadata": {},
   "outputs": [
    {
     "data": {
      "text/plain": [
       "array([ 0,  2,  4,  6,  8, 10, 12, 14])"
      ]
     },
     "execution_count": 38,
     "metadata": {},
     "output_type": "execute_result"
    }
   ],
   "source": [
    "np.arange(0, 15, 2)"
   ]
  },
  {
   "cell_type": "markdown",
   "metadata": {},
   "source": [
    "What if we wanted a 2d array instead? We can call ***reshape(rows, columns)*** on an existing NumPy array. Please note that the product of rows and columns must evaluate to the total number of elements in your current NumPy array."
   ]
  },
  {
   "cell_type": "code",
   "execution_count": 39,
   "metadata": {},
   "outputs": [
    {
     "data": {
      "text/plain": [
       "array([[ 0,  1,  2,  3,  4],\n",
       "       [ 5,  6,  7,  8,  9],\n",
       "       [10, 11, 12, 13, 14]])"
      ]
     },
     "execution_count": 39,
     "metadata": {},
     "output_type": "execute_result"
    }
   ],
   "source": [
    "np.arange(0, 15).reshape(3, 5)"
   ]
  },
  {
   "cell_type": "markdown",
   "metadata": {},
   "source": [
    "If we'd like to generate an ndarry of zeroes or ones (useful with certain calculations), we could do so by simply calling ***zeros*** or ***ones***. For example:"
   ]
  },
  {
   "cell_type": "code",
   "execution_count": 40,
   "metadata": {},
   "outputs": [
    {
     "data": {
      "text/plain": [
       "array([0., 0., 0., 0., 0., 0., 0., 0., 0., 0., 0., 0., 0., 0., 0.])"
      ]
     },
     "execution_count": 40,
     "metadata": {},
     "output_type": "execute_result"
    }
   ],
   "source": [
    "np.zeros(15)"
   ]
  },
  {
   "cell_type": "code",
   "execution_count": 41,
   "metadata": {},
   "outputs": [
    {
     "data": {
      "text/plain": [
       "array([[0., 0., 0., 0., 0.],\n",
       "       [0., 0., 0., 0., 0.],\n",
       "       [0., 0., 0., 0., 0.]])"
      ]
     },
     "execution_count": 41,
     "metadata": {},
     "output_type": "execute_result"
    }
   ],
   "source": [
    "np.zeros(15).reshape(3, 5)"
   ]
  },
  {
   "cell_type": "code",
   "execution_count": 42,
   "metadata": {},
   "outputs": [
    {
     "data": {
      "text/plain": [
       "array([1., 1., 1., 1., 1., 1., 1., 1., 1., 1., 1., 1., 1., 1., 1.])"
      ]
     },
     "execution_count": 42,
     "metadata": {},
     "output_type": "execute_result"
    }
   ],
   "source": [
    "np.ones(15)"
   ]
  },
  {
   "cell_type": "code",
   "execution_count": 43,
   "metadata": {},
   "outputs": [
    {
     "data": {
      "text/plain": [
       "array([[1., 1., 1., 1., 1.],\n",
       "       [1., 1., 1., 1., 1.],\n",
       "       [1., 1., 1., 1., 1.]])"
      ]
     },
     "execution_count": 43,
     "metadata": {},
     "output_type": "execute_result"
    }
   ],
   "source": [
    "np.ones(15).reshape(3, 5)"
   ]
  },
  {
   "cell_type": "markdown",
   "metadata": {},
   "source": [
    "You might have noticed that these values defaulted to floats. If for some reason you'd like to use a different type, say, int, you can insert an additional paramater such as ***dtype=int***. See more on dtypes [here](https://numpy.org/doc/stable/user/basics.types.html)"
   ]
  },
  {
   "cell_type": "code",
   "execution_count": 44,
   "metadata": {},
   "outputs": [
    {
     "data": {
      "text/plain": [
       "array([[1, 1, 1, 1, 1],\n",
       "       [1, 1, 1, 1, 1],\n",
       "       [1, 1, 1, 1, 1]])"
      ]
     },
     "execution_count": 44,
     "metadata": {},
     "output_type": "execute_result"
    }
   ],
   "source": [
    "np.ones(15, dtype=int).reshape(3, 5)"
   ]
  },
  {
   "cell_type": "markdown",
   "metadata": {},
   "source": [
    "### Different examples"
   ]
  },
  {
   "cell_type": "code",
   "execution_count": 45,
   "metadata": {},
   "outputs": [
    {
     "name": "stdout",
     "output_type": "stream",
     "text": [
      "[ 0  1  2  3  4  5  6  7  8  9 10 11 12 13 14 15 16 17 18 19 20 21 22 23\n",
      " 24 25 26 27 28 29 30 31 32 33 34 35 36 37 38 39 40 41 42 43]\n",
      " \n",
      "[ 0  5 10]\n",
      " \n",
      "[[ 0  1  2  3  4]\n",
      " [ 5  6  7  8  9]\n",
      " [10 11 12 13 14]\n",
      " [15 16 17 18 19]\n",
      " [20 21 22 23 24]]\n",
      " \n",
      "[0. 0. 0. 0. 0. 0. 0. 0. 0. 0. 0. 0. 0. 0. 0. 0. 0. 0. 0. 0. 0. 0. 0. 0.\n",
      " 0.]\n",
      " \n",
      "[[1 1 1 1 1]\n",
      " [1 1 1 1 1]\n",
      " [1 1 1 1 1]\n",
      " [1 1 1 1 1]\n",
      " [1 1 1 1 1]]\n"
     ]
    }
   ],
   "source": [
    "\"\"\" Different examples \"\"\"\n",
    "print(np.arange(0,44))\n",
    "print(\" \")\n",
    "print(np.arange(0,15,5))\n",
    "print(\" \")\n",
    "print (np.arange(0,25).reshape(5,5))\n",
    "print(\" \")\n",
    "print(np.zeros(25))\n",
    "print(\" \")\n",
    "print(np.ones(25,dtype=int).reshape(5,5))"
   ]
  },
  {
   "cell_type": "markdown",
   "metadata": {},
   "source": [
    "A common matrix used in linear algebra is the identity matrix (an n × n square matrix with ones on the main diagonal and zeros elsewhere). We can generate this in NumPy using ***eye(n)***. "
   ]
  },
  {
   "cell_type": "code",
   "execution_count": 46,
   "metadata": {},
   "outputs": [
    {
     "data": {
      "text/plain": [
       "array([[1., 0., 0., 0., 0.],\n",
       "       [0., 1., 0., 0., 0.],\n",
       "       [0., 0., 1., 0., 0.],\n",
       "       [0., 0., 0., 1., 0.],\n",
       "       [0., 0., 0., 0., 1.]])"
      ]
     },
     "execution_count": 46,
     "metadata": {},
     "output_type": "execute_result"
    }
   ],
   "source": [
    "np.eye(5)"
   ]
  },
  {
   "cell_type": "markdown",
   "metadata": {},
   "source": [
    "Another common use case is to generate an ndarray of random numbers. This can be done in 2 ways. ***rand*** (which will fill the ndarray with random samples from a uniform distribution over [0, 1)), and ***randn*** (which will return a sample (or samples) from the standard normal distribution.) Additionally, we can use ***randint(low, high, size)*** to generate a single or multiple random integers between [low, high). The size parameter specifies how many we'd like. Let's see a few examples."
   ]
  },
  {
   "cell_type": "code",
   "execution_count": 47,
   "metadata": {},
   "outputs": [
    {
     "data": {
      "text/plain": [
       "array([0.91857774, 0.89622505, 0.68410478, 0.81609206, 0.37915846])"
      ]
     },
     "execution_count": 47,
     "metadata": {},
     "output_type": "execute_result"
    }
   ],
   "source": [
    "np.random.rand(5)"
   ]
  },
  {
   "cell_type": "code",
   "execution_count": 48,
   "metadata": {},
   "outputs": [
    {
     "data": {
      "text/plain": [
       "array([ 0.79580316, -0.12889652,  1.14209652,  1.76724718,  1.39648686])"
      ]
     },
     "execution_count": 48,
     "metadata": {},
     "output_type": "execute_result"
    }
   ],
   "source": [
    "np.random.randn(5)"
   ]
  },
  {
   "cell_type": "code",
   "execution_count": 49,
   "metadata": {},
   "outputs": [
    {
     "data": {
      "text/plain": [
       "4"
      ]
     },
     "execution_count": 49,
     "metadata": {},
     "output_type": "execute_result"
    }
   ],
   "source": [
    "np.random.randint(1,100)"
   ]
  },
  {
   "cell_type": "code",
   "execution_count": 50,
   "metadata": {},
   "outputs": [
    {
     "data": {
      "text/plain": [
       "array([20, 40, 95, 39, 95, 86, 28, 43, 35, 98, 40, 60,  9, 64, 74],\n",
       "      dtype=int32)"
      ]
     },
     "execution_count": 50,
     "metadata": {},
     "output_type": "execute_result"
    }
   ],
   "source": [
    "np.random.randint(1, 100, 15)"
   ]
  },
  {
   "cell_type": "markdown",
   "metadata": {},
   "source": [
    "Other common methods that you're likely to encounter in this class include ***min***, ***max***, ***argmin***, and ***argmax***. The only difference between the two arg methods is that they'll instead return the index position of the min/max value. For example:"
   ]
  },
  {
   "cell_type": "code",
   "execution_count": 51,
   "metadata": {},
   "outputs": [
    {
     "data": {
      "text/plain": [
       "array([[57, 82, 97, 37, 15],\n",
       "       [79, 46, 70,  2, 34],\n",
       "       [14, 86, 82, 43, 28],\n",
       "       [77, 10, 96, 95, 99]], dtype=int32)"
      ]
     },
     "execution_count": 51,
     "metadata": {},
     "output_type": "execute_result"
    }
   ],
   "source": [
    "A = np.random.randint(0, 100, 20).reshape(4, 5)\n",
    "A"
   ]
  },
  {
   "cell_type": "code",
   "execution_count": 52,
   "metadata": {},
   "outputs": [
    {
     "name": "stdout",
     "output_type": "stream",
     "text": [
      "The smallest value in A is 2, and is a located at position 8\n",
      "The largest value in A is 99, and is a located at position 19\n"
     ]
    }
   ],
   "source": [
    "print(f'The smallest value in A is {A.min()}, and is a located at position {A.argmin()}')\n",
    "print(f'The largest value in A is {A.max()}, and is a located at position {A.argmax()}')"
   ]
  },
  {
   "cell_type": "markdown",
   "metadata": {},
   "source": [
    "Lastly, we'll often find ourselves wanting to know the shape (dimensions) of our ndarray. This can be done using ***shape***."
   ]
  },
  {
   "cell_type": "code",
   "execution_count": 53,
   "metadata": {},
   "outputs": [
    {
     "data": {
      "text/plain": [
       "(4, 5)"
      ]
     },
     "execution_count": 53,
     "metadata": {},
     "output_type": "execute_result"
    }
   ],
   "source": [
    "A.shape"
   ]
  },
  {
   "cell_type": "code",
   "execution_count": 54,
   "metadata": {},
   "outputs": [
    {
     "data": {
      "text/plain": [
       "(4, 5)"
      ]
     },
     "execution_count": 54,
     "metadata": {},
     "output_type": "execute_result"
    }
   ],
   "source": [
    "np.shape(A)"
   ]
  },
  {
   "cell_type": "markdown",
   "metadata": {},
   "source": [
    "### Different examples"
   ]
  },
  {
   "cell_type": "code",
   "execution_count": 55,
   "metadata": {},
   "outputs": [
    {
     "name": "stdout",
     "output_type": "stream",
     "text": [
      "[[1. 0. 0. 0. 0. 0. 0. 0. 0. 0.]\n",
      " [0. 1. 0. 0. 0. 0. 0. 0. 0. 0.]\n",
      " [0. 0. 1. 0. 0. 0. 0. 0. 0. 0.]\n",
      " [0. 0. 0. 1. 0. 0. 0. 0. 0. 0.]\n",
      " [0. 0. 0. 0. 1. 0. 0. 0. 0. 0.]\n",
      " [0. 0. 0. 0. 0. 1. 0. 0. 0. 0.]\n",
      " [0. 0. 0. 0. 0. 0. 1. 0. 0. 0.]\n",
      " [0. 0. 0. 0. 0. 0. 0. 1. 0. 0.]\n",
      " [0. 0. 0. 0. 0. 0. 0. 0. 1. 0.]\n",
      " [0. 0. 0. 0. 0. 0. 0. 0. 0. 1.]]\n",
      " \n",
      "[0.59739169 0.32286849 0.31576411 0.16894825 0.58248958 0.92883694\n",
      " 0.9400078 ]\n",
      " \n",
      "[-0.39428098  0.86253911  1.00900884 -0.58480082  0.72825035  1.13901241\n",
      " -0.1536431  -0.44261071]\n",
      " \n",
      "194\n",
      " \n",
      "[[21 29 39 29 41]\n",
      " [ 8 46  4 33 17]\n",
      " [ 3  2 29  6 22]\n",
      " [27 24  6 43 13]]\n",
      " \n",
      "The smallest value in A is 2, and is a located at position 11\n",
      "The largest value in A is 46, and is a located at position 6\n",
      "(4, 5)\n",
      " \n",
      "(4, 5)\n"
     ]
    }
   ],
   "source": [
    "\"\"\" Different examples \"\"\"\n",
    "\"\"\" We can generate the identity matrix by using .eye(num) \"\"\"\n",
    "print(np.eye(10))\n",
    "print(\" \")\n",
    "\"\"\" We can use rand to return random samples from the uniform distribution from [0 - 1] \"\"\"\n",
    "print( np.random.rand(7))\n",
    "print(\" \")\n",
    "\"\"\" randn will return from the standard normal distribution \"\"\"\n",
    "print(np.random.randn(8))\n",
    "print(\" \")\n",
    "\"\"\" return a random int .randint(low,high) \"\"\"\n",
    "print(np.random.randint(100,200))\n",
    "print(\" \")\n",
    "\"\"\" Other common methods that you're likely to encounter in this class include min, max, argmin, and\n",
    " argmax. The only difference between the two arg methods is that they'll instead return the index\n",
    " position of the min/max value. For example: \"\"\"\n",
    "\n",
    "A = np.random.randint(0, 50, 20).reshape(4,5)\n",
    "print(A)\n",
    "print(\" \")\n",
    "print(f'The smallest value in A is {A.min()}, and is a located at position {A.argmin()}')\n",
    "print(f'The largest value in A is {A.max()}, and is a located at position {A.argmax()}')\n",
    "\n",
    "\"\"\" If we want to check on the size of the array we can use shape \"\"\"\n",
    "print(A.shape)\n",
    "print(\" \")\n",
    "print(np.shape(A))\n"
   ]
  },
  {
   "cell_type": "markdown",
   "metadata": {},
   "source": [
    "Great! you now know how to create NumPy arrays and some of the common methods. Let's now look into some common operations we can perform on these arrays."
   ]
  },
  {
   "cell_type": "markdown",
   "metadata": {},
   "source": [
    "### Common Operations"
   ]
  },
  {
   "cell_type": "code",
   "execution_count": 56,
   "metadata": {
    "scrolled": true
   },
   "outputs": [
    {
     "name": "stdout",
     "output_type": "stream",
     "text": [
      "A: [ 1  2  3  4  5  6  7  8  9 10 11 12 13 14 15]\n",
      "B: [ 1  3  5  7  9 11 13 15 17 19 21 23 25 27 29]\n",
      "C:\n",
      "[[0 1]\n",
      " [2 3]]\n",
      "D:\n",
      "[[0 1]\n",
      " [2 3]]\n",
      "E:\n",
      "[[ 1  2  3  4  5]\n",
      " [ 6  7  8  9 10]\n",
      " [11 12 13 14 15]]\n",
      "F: [ 0  1  2  3  4  5  6  7  8  9 10]\n"
     ]
    }
   ],
   "source": [
    "A = np.arange(1, 16)\n",
    "B = np.arange(1, 30, 2)\n",
    "C = np.arange(0, 4).reshape(2, 2)\n",
    "D = np.arange(0, 4).reshape(2, 2)\n",
    "E = np.arange(1, 16).reshape(3, 5)\n",
    "F = np.arange(11)\n",
    "print(f'A: {A}')\n",
    "print(f'B: {B}')\n",
    "print('C:')\n",
    "print(C)\n",
    "print('D:')\n",
    "print(D)\n",
    "print('E:')\n",
    "print(E)\n",
    "print(f'F: {F}')"
   ]
  },
  {
   "cell_type": "markdown",
   "metadata": {},
   "source": [
    "### Different example"
   ]
  },
  {
   "cell_type": "code",
   "execution_count": 57,
   "metadata": {},
   "outputs": [
    {
     "name": "stdout",
     "output_type": "stream",
     "text": [
      "A: [10 11 12 13 14 15 16 17 18 19 20 21 22 23 24]\n",
      "B: [ 3  6  9 12 15 18 21 24 27 30]\n",
      "C:\n",
      "[[ 8  9]\n",
      " [10 11]]\n",
      "D:\n",
      "[[14 15]\n",
      " [16 17]]\n",
      "E:\n",
      "[[30 31 32 33 34]\n",
      " [35 36 37 38 39]\n",
      " [40 41 42 43 44]]\n",
      "F: [ 7  8  9 10 11 12 13 14 15 16 17]\n"
     ]
    }
   ],
   "source": [
    "\"\"\" Different examples \"\"\"\n",
    "\n",
    "A = np.arange(10, 25)\n",
    "B = np.arange(3, 33, 3)\n",
    "C = np.arange(8, 12).reshape(2, 2)\n",
    "D = np.arange(14, 18).reshape(2, 2)\n",
    "E = np.arange(30, 45).reshape(3, 5)\n",
    "F = np.arange(7, 18)\n",
    "\n",
    "print(f'A: {A}')\n",
    "print(f'B: {B}')\n",
    "print('C:')\n",
    "print(C)\n",
    "print('D:')\n",
    "print(D)\n",
    "print('E:')\n",
    "print(E)\n",
    "print(f'F: {F}')\n",
    "\n",
    "A = np.arange(1, 16)\n",
    "B = np.arange(1, 30, 2)\n",
    "C = np.arange(0, 4).reshape(2, 2)\n",
    "D = np.arange(0, 4).reshape(2, 2)\n",
    "E = np.arange(1, 16).reshape(3, 5)\n",
    "F = np.arange(11)"
   ]
  },
  {
   "cell_type": "markdown",
   "metadata": {},
   "source": [
    "#### Arithmetic"
   ]
  },
  {
   "cell_type": "code",
   "execution_count": 58,
   "metadata": {},
   "outputs": [
    {
     "data": {
      "text/plain": [
       "array([ 2,  5,  8, 11, 14, 17, 20, 23, 26, 29, 32, 35, 38, 41, 44])"
      ]
     },
     "execution_count": 58,
     "metadata": {},
     "output_type": "execute_result"
    }
   ],
   "source": [
    "A + B"
   ]
  },
  {
   "cell_type": "code",
   "execution_count": 59,
   "metadata": {},
   "outputs": [
    {
     "data": {
      "text/plain": [
       "array([ 6,  7,  8,  9, 10, 11, 12, 13, 14, 15, 16, 17, 18, 19, 20])"
      ]
     },
     "execution_count": 59,
     "metadata": {},
     "output_type": "execute_result"
    }
   ],
   "source": [
    "A + 5"
   ]
  },
  {
   "cell_type": "code",
   "execution_count": 60,
   "metadata": {},
   "outputs": [
    {
     "data": {
      "text/plain": [
       "array([  0,  -1,  -2,  -3,  -4,  -5,  -6,  -7,  -8,  -9, -10, -11, -12,\n",
       "       -13, -14])"
      ]
     },
     "execution_count": 60,
     "metadata": {},
     "output_type": "execute_result"
    }
   ],
   "source": [
    "A - B"
   ]
  },
  {
   "cell_type": "code",
   "execution_count": 61,
   "metadata": {},
   "outputs": [
    {
     "data": {
      "text/plain": [
       "array([-4, -3, -2, -1,  0,  1,  2,  3,  4,  5,  6,  7,  8,  9, 10])"
      ]
     },
     "execution_count": 61,
     "metadata": {},
     "output_type": "execute_result"
    }
   ],
   "source": [
    "A - 5"
   ]
  },
  {
   "cell_type": "code",
   "execution_count": 62,
   "metadata": {},
   "outputs": [
    {
     "data": {
      "text/plain": [
       "array([  1,   6,  15,  28,  45,  66,  91, 120, 153, 190, 231, 276, 325,\n",
       "       378, 435])"
      ]
     },
     "execution_count": 62,
     "metadata": {},
     "output_type": "execute_result"
    }
   ],
   "source": [
    "A * B"
   ]
  },
  {
   "cell_type": "code",
   "execution_count": 63,
   "metadata": {},
   "outputs": [
    {
     "data": {
      "text/plain": [
       "array([ 5, 10, 15, 20, 25, 30, 35, 40, 45, 50, 55, 60, 65, 70, 75])"
      ]
     },
     "execution_count": 63,
     "metadata": {},
     "output_type": "execute_result"
    }
   ],
   "source": [
    "A * 5"
   ]
  },
  {
   "cell_type": "code",
   "execution_count": 64,
   "metadata": {},
   "outputs": [
    {
     "data": {
      "text/plain": [
       "array([1.        , 0.66666667, 0.6       , 0.57142857, 0.55555556,\n",
       "       0.54545455, 0.53846154, 0.53333333, 0.52941176, 0.52631579,\n",
       "       0.52380952, 0.52173913, 0.52      , 0.51851852, 0.51724138])"
      ]
     },
     "execution_count": 64,
     "metadata": {},
     "output_type": "execute_result"
    }
   ],
   "source": [
    "A / B"
   ]
  },
  {
   "cell_type": "code",
   "execution_count": 65,
   "metadata": {},
   "outputs": [
    {
     "data": {
      "text/plain": [
       "array([0.5, 1. , 1.5, 2. , 2.5, 3. , 3.5, 4. , 4.5, 5. , 5.5, 6. , 6.5,\n",
       "       7. , 7.5])"
      ]
     },
     "execution_count": 65,
     "metadata": {},
     "output_type": "execute_result"
    }
   ],
   "source": [
    "A / 2"
   ]
  },
  {
   "cell_type": "markdown",
   "metadata": {},
   "source": [
    "### Different examples"
   ]
  },
  {
   "cell_type": "code",
   "execution_count": 66,
   "metadata": {},
   "outputs": [
    {
     "name": "stdout",
     "output_type": "stream",
     "text": [
      "[15 17 19 21 23 25 27 29 31 33 35 37 39 41 43]\n",
      " \n",
      "[17 18 19 20 21 22 23 24 25 26 27 28 29 30 31]\n",
      " \n",
      "[5 5 5 5 5 5 5 5 5 5 5 5 5 5 5]\n",
      " \n",
      "[ 7  8  9 10 11 12 13 14 15 16 17 18 19 20 21]\n",
      " \n",
      "[ 50  66  84 104 126 150 176 204 234 266 300 336 374 414 456]\n",
      " \n",
      "[ 60  66  72  78  84  90  96 102 108 114 120 126 132 138 144]\n",
      " \n",
      "[2.         1.83333333 1.71428571 1.625      1.55555556 1.5\n",
      " 1.45454545 1.41666667 1.38461538 1.35714286 1.33333333 1.3125\n",
      " 1.29411765 1.27777778 1.26315789]\n",
      " \n",
      "[2.  2.2 2.4 2.6 2.8 3.  3.2 3.4 3.6 3.8 4.  4.2 4.4 4.6 4.8]\n"
     ]
    }
   ],
   "source": [
    "\"\"\" Different examples \"\"\"\n",
    "A = np.arange(10, 25)  \n",
    "B = np.arange(5, 20)  \n",
    "\n",
    "print(A + B)\n",
    "print(\" \")\n",
    "print(A + 7)\n",
    "print(\" \")\n",
    "print(A - B)\n",
    "print(\" \")\n",
    "print(A - 3)\n",
    "print(\" \")\n",
    "print(A * B)\n",
    "print(\" \")\n",
    "print(A * 6)\n",
    "print(\" \")\n",
    "print(A / B)\n",
    "print(\" \")\n",
    "print(A / 5)"
   ]
  },
  {
   "cell_type": "markdown",
   "metadata": {},
   "source": [
    "Note: Becareful dividing by zero. You'll get ***nan*** short for Not a number. "
   ]
  },
  {
   "cell_type": "markdown",
   "metadata": {},
   "source": [
    "As you may have noticed, the standard operations \\*, +, -, / work element-wise on arrays. If you'd like to instead do matrix multiplication, ***matmul*** can be used. [Here's](https://www.mathsisfun.com/algebra/matrix-multiplying.html) a quick reference in case you forgot how matrix multiplication works."
   ]
  },
  {
   "cell_type": "code",
   "execution_count": 67,
   "metadata": {},
   "outputs": [
    {
     "data": {
      "text/plain": [
       "array([[ 2,  3],\n",
       "       [ 6, 11]])"
      ]
     },
     "execution_count": 67,
     "metadata": {},
     "output_type": "execute_result"
    }
   ],
   "source": [
    "np.matmul(C, D)"
   ]
  },
  {
   "cell_type": "markdown",
   "metadata": {},
   "source": [
    "#### Universal Functions"
   ]
  },
  {
   "cell_type": "markdown",
   "metadata": {},
   "source": [
    "NumPy also contains [universal functions](https://numpy.org/doc/stable/reference/ufuncs.html), which is a function that operates on ndarrays in an element-by-element fashion. Let's see a few examples."
   ]
  },
  {
   "cell_type": "code",
   "execution_count": 68,
   "metadata": {},
   "outputs": [
    {
     "data": {
      "text/plain": [
       "array([[1.        , 1.41421356, 1.73205081, 2.        , 2.23606798],\n",
       "       [2.44948974, 2.64575131, 2.82842712, 3.        , 3.16227766],\n",
       "       [3.31662479, 3.46410162, 3.60555128, 3.74165739, 3.87298335]])"
      ]
     },
     "execution_count": 68,
     "metadata": {},
     "output_type": "execute_result"
    }
   ],
   "source": [
    "np.sqrt(E)"
   ]
  },
  {
   "cell_type": "code",
   "execution_count": 69,
   "metadata": {},
   "outputs": [
    {
     "data": {
      "text/plain": [
       "array([[0.        , 0.69314718, 1.09861229, 1.38629436, 1.60943791],\n",
       "       [1.79175947, 1.94591015, 2.07944154, 2.19722458, 2.30258509],\n",
       "       [2.39789527, 2.48490665, 2.56494936, 2.63905733, 2.7080502 ]])"
      ]
     },
     "execution_count": 69,
     "metadata": {},
     "output_type": "execute_result"
    }
   ],
   "source": [
    "np.log(E)"
   ]
  },
  {
   "cell_type": "markdown",
   "metadata": {},
   "source": [
    "Something that will often come in handy is the ***where(condition, x, y)*** method. This will loop through every element in your ndarray and return a new ndarray that replaces the element with x if the condition is met, and y if the condition is not met. In the example below we're multiplying all odd numbers by 100, else replacing with -1. Try changing the -1 to F in the example below and see what happens."
   ]
  },
  {
   "cell_type": "code",
   "execution_count": 70,
   "metadata": {},
   "outputs": [
    {
     "data": {
      "text/plain": [
       "array([ -1, 100,  -1, 300,  -1, 500,  -1, 700,  -1, 900,  -1])"
      ]
     },
     "execution_count": 70,
     "metadata": {},
     "output_type": "execute_result"
    }
   ],
   "source": [
    "np.where(F%2==0, -1, F*100)"
   ]
  },
  {
   "cell_type": "markdown",
   "metadata": {},
   "source": [
    "### Different examples"
   ]
  },
  {
   "cell_type": "code",
   "execution_count": 71,
   "metadata": {},
   "outputs": [
    {
     "name": "stdout",
     "output_type": "stream",
     "text": [
      "[[ 2  3]\n",
      " [ 6 11]]\n",
      " \n",
      "[[0.         1.        ]\n",
      " [1.41421356 1.73205081]]\n",
      " \n",
      "[2.30258509 2.39789527 2.48490665 2.56494936 2.63905733 2.7080502\n",
      " 2.77258872 2.83321334 2.89037176 2.94443898 2.99573227 3.04452244\n",
      " 3.09104245 3.13549422 3.17805383]\n",
      " \n",
      "[  -1 1100   -1 1300   -1 1500   -1 1700   -1 1900   -1 2100   -1 2300\n",
      "   -1]\n"
     ]
    }
   ],
   "source": [
    "\"\"\" Different examples \"\"\"\n",
    "print(np.matmul(D,C))\n",
    "print(\" \")\n",
    "print(np.sqrt(D))\n",
    "print(\" \")\n",
    "print(np.log(A))\n",
    "print(\" \")\n",
    "print(np.where(A%2==0, -1, A*100))"
   ]
  },
  {
   "cell_type": "markdown",
   "metadata": {},
   "source": [
    "Nice! Now that you know how to create NumPy arrays and perform basic operations on them, let's take a look at how to index and select certain elements."
   ]
  },
  {
   "cell_type": "markdown",
   "metadata": {},
   "source": [
    "### Indexing"
   ]
  },
  {
   "cell_type": "markdown",
   "metadata": {},
   "source": [
    "#### Indexing 1d array\n",
    "Note: recall that counting starts from 0. Given an array [5, 6, 7, 8], we say that value 5 is at index/position 0."
   ]
  },
  {
   "cell_type": "code",
   "execution_count": 72,
   "metadata": {},
   "outputs": [
    {
     "data": {
      "text/plain": [
       "array([ 0,  1,  2,  3,  4,  5,  6,  7,  8,  9, 10, 11, 12, 13, 14])"
      ]
     },
     "execution_count": 72,
     "metadata": {},
     "output_type": "execute_result"
    }
   ],
   "source": [
    "A = np.arange(15)\n",
    "A"
   ]
  },
  {
   "cell_type": "markdown",
   "metadata": {},
   "source": [
    "Obtaining a single element will look similar to Python arrays:"
   ]
  },
  {
   "cell_type": "code",
   "execution_count": 73,
   "metadata": {},
   "outputs": [
    {
     "name": "stdout",
     "output_type": "stream",
     "text": [
      "A[0]: 0\n",
      "A[5]: 5\n",
      "A[14]: 14\n"
     ]
    }
   ],
   "source": [
    "print(f'A[0]: {A[0]}')\n",
    "print(f'A[5]: {A[5]}')\n",
    "print(f'A[14]: {A[14]}')"
   ]
  },
  {
   "cell_type": "markdown",
   "metadata": {},
   "source": [
    "We can grab a section using ***A[start_index : stop_index]***. stop_index is not inclusive."
   ]
  },
  {
   "cell_type": "code",
   "execution_count": 74,
   "metadata": {},
   "outputs": [
    {
     "data": {
      "text/plain": [
       "array([0, 1, 2, 3, 4, 5, 6, 7, 8, 9])"
      ]
     },
     "execution_count": 74,
     "metadata": {},
     "output_type": "execute_result"
    }
   ],
   "source": [
    "A[0:10]"
   ]
  },
  {
   "cell_type": "markdown",
   "metadata": {},
   "source": [
    "We can also modify values in this way."
   ]
  },
  {
   "cell_type": "code",
   "execution_count": 75,
   "metadata": {},
   "outputs": [
    {
     "data": {
      "text/plain": [
       "array([500, 500, 500, 500, 500, 500, 500, 500, 500, 500,  10,  11,  12,\n",
       "        13,  14])"
      ]
     },
     "execution_count": 75,
     "metadata": {},
     "output_type": "execute_result"
    }
   ],
   "source": [
    "A[0:10] = 500\n",
    "A"
   ]
  },
  {
   "cell_type": "markdown",
   "metadata": {},
   "source": [
    "### Different examples"
   ]
  },
  {
   "cell_type": "code",
   "execution_count": 76,
   "metadata": {},
   "outputs": [
    {
     "name": "stdout",
     "output_type": "stream",
     "text": [
      "[ 0  1  2  3  4  5  6  7  8  9 10 11 12 13 14 15 16 17 18 19]\n",
      " \n",
      "A[0]: 0\n",
      "A[15]: 15\n",
      "A[19]: 19\n",
      "[0 1 2 3 4]\n",
      "[20 20 20 20 20 20 20 20 20 20 20 20 20 13 14 15 16 17 18 19]\n"
     ]
    }
   ],
   "source": [
    "\"\"\" Different examples \"\"\"\n",
    "A = np.arange(20)\n",
    "print(A)\n",
    "print(\" \")\n",
    "print(f'A[0]: {A[0]}')\n",
    "print(f'A[15]: {A[15]}')\n",
    "print(f'A[19]: {A[19]}')\n",
    "print(A[0:5])\n",
    "A[0:13] = 20\n",
    "print(A)"
   ]
  },
  {
   "cell_type": "markdown",
   "metadata": {},
   "source": [
    "#### Indexing a 2d array"
   ]
  },
  {
   "cell_type": "code",
   "execution_count": 77,
   "metadata": {},
   "outputs": [
    {
     "data": {
      "text/plain": [
       "array([[ 0,  1,  2,  3,  4,  5,  6,  7,  8,  9],\n",
       "       [10, 11, 12, 13, 14, 15, 16, 17, 18, 19],\n",
       "       [20, 21, 22, 23, 24, 25, 26, 27, 28, 29],\n",
       "       [30, 31, 32, 33, 34, 35, 36, 37, 38, 39],\n",
       "       [40, 41, 42, 43, 44, 45, 46, 47, 48, 49]])"
      ]
     },
     "execution_count": 77,
     "metadata": {},
     "output_type": "execute_result"
    }
   ],
   "source": [
    "B = np.arange(50).reshape(5, 10)\n",
    "B"
   ]
  },
  {
   "cell_type": "markdown",
   "metadata": {},
   "source": [
    "Obtaining a single element can be done using ***B[row, col]***."
   ]
  },
  {
   "cell_type": "code",
   "execution_count": 78,
   "metadata": {},
   "outputs": [
    {
     "name": "stdout",
     "output_type": "stream",
     "text": [
      "0th row and 2nd col in B: 2\n",
      "3rd row and 3rd col in B: 33\n",
      "4th row and 2nd col in B: 42\n"
     ]
    }
   ],
   "source": [
    "print(f'0th row and 2nd col in B: {B[0, 2]}')\n",
    "print(f'3rd row and 3rd col in B: {B[3, 3]}')\n",
    "print(f'4th row and 2nd col in B: {B[4, 2]}')"
   ]
  },
  {
   "cell_type": "markdown",
   "metadata": {},
   "source": [
    "Similar to before, we can also grab a section of interest from this 2darray. Only now we have to specify both the row sections of interest and column sections of interest. ***B[0:2, 3:5]*** says: I want rows 0-2 from B, but only the elements in that row corresponding to columns 3-5. Recall that stop_index is not inclusive. Here stop_index for the rows is 2, and stop_index for the columns is 5."
   ]
  },
  {
   "cell_type": "code",
   "execution_count": 79,
   "metadata": {},
   "outputs": [
    {
     "data": {
      "text/plain": [
       "array([[ 3,  4],\n",
       "       [13, 14]])"
      ]
     },
     "execution_count": 79,
     "metadata": {},
     "output_type": "execute_result"
    }
   ],
   "source": [
    "B[0:2, 3:5]"
   ]
  },
  {
   "cell_type": "markdown",
   "metadata": {},
   "source": [
    "Again, we can also modify values in this way."
   ]
  },
  {
   "cell_type": "code",
   "execution_count": 80,
   "metadata": {},
   "outputs": [
    {
     "data": {
      "text/plain": [
       "array([[ 0,  1,  2, -1, -1,  5,  6,  7,  8,  9],\n",
       "       [10, 11, 12, -1, -1, 15, 16, 17, 18, 19],\n",
       "       [20, 21, 22, 23, 24, 25, 26, 27, 28, 29],\n",
       "       [30, 31, 32, 33, 34, 35, 36, 37, 38, 39],\n",
       "       [40, 41, 42, 43, 44, 45, 46, 47, 48, 49]])"
      ]
     },
     "execution_count": 80,
     "metadata": {},
     "output_type": "execute_result"
    }
   ],
   "source": [
    "B[0:2, 3:5] = -1\n",
    "B"
   ]
  },
  {
   "cell_type": "markdown",
   "metadata": {},
   "source": [
    "### Different examples"
   ]
  },
  {
   "cell_type": "code",
   "execution_count": 81,
   "metadata": {},
   "outputs": [
    {
     "name": "stdout",
     "output_type": "stream",
     "text": [
      "[[ 0  1  2  3  4  5  6  7  8  9 10 11 12 13 14 15 16 17 18 19]\n",
      " [20 21 22 23 24 25 26 27 28 29 30 31 32 33 34 35 36 37 38 39]\n",
      " [40 41 42 43 44 45 46 47 48 49 50 51 52 53 54 55 56 57 58 59]\n",
      " [60 61 62 63 64 65 66 67 68 69 70 71 72 73 74 75 76 77 78 79]\n",
      " [80 81 82 83 84 85 86 87 88 89 90 91 92 93 94 95 96 97 98 99]]\n",
      "0th row and 7th col in B: 6\n",
      "4th row and 9th col in B: 68\n",
      "5th row and 3rd col in B: 82\n",
      "[[44]\n",
      " [64]]\n",
      "[[  0   1   2   3   4   5   6   7   8   9  10  11  12  13  14  15  16  17\n",
      "   18  19]\n",
      " [ 20  21  22  23  24  25  26  27  28  29  30  31  32  33  34  35  36  37\n",
      "   38  39]\n",
      " [ 40  41  42  43 100  45  46  47  48  49  50  51  52  53  54  55  56  57\n",
      "   58  59]\n",
      " [ 60  61  62  63 100  65  66  67  68  69  70  71  72  73  74  75  76  77\n",
      "   78  79]\n",
      " [ 80  81  82  83  84  85  86  87  88  89  90  91  92  93  94  95  96  97\n",
      "   98  99]]\n"
     ]
    }
   ],
   "source": [
    "\"\"\" Different examples \"\"\"\n",
    "B = np.arange(100).reshape(5, 20)\n",
    "print(B)\n",
    "print(f'0th row and 7th col in B: {B[0, 6]}')\n",
    "print(f'4th row and 9th col in B: {B[3, 8]}')\n",
    "print(f'5th row and 3rd col in B: {B[4, 2]}')\n",
    "print(B[2:4, 4:5])\n",
    "B[2:4, 4:5] = 100\n",
    "print(B)"
   ]
  },
  {
   "cell_type": "markdown",
   "metadata": {},
   "source": [
    "#### Boolean Array Indexing"
   ]
  },
  {
   "cell_type": "code",
   "execution_count": 82,
   "metadata": {},
   "outputs": [
    {
     "data": {
      "text/plain": [
       "array([[ 0,  1,  2,  3,  4],\n",
       "       [ 5,  6,  7,  8,  9],\n",
       "       [10, 11, 12, 13, 14],\n",
       "       [15, 16, 17, 18, 19],\n",
       "       [20, 21, 22, 23, 24],\n",
       "       [25, 26, 27, 28, 29],\n",
       "       [30, 31, 32, 33, 34],\n",
       "       [35, 36, 37, 38, 39],\n",
       "       [40, 41, 42, 43, 44],\n",
       "       [45, 46, 47, 48, 49]])"
      ]
     },
     "execution_count": 82,
     "metadata": {},
     "output_type": "execute_result"
    }
   ],
   "source": [
    "C = np.arange(50).reshape(10, 5)\n",
    "C"
   ]
  },
  {
   "cell_type": "markdown",
   "metadata": {},
   "source": [
    "A really cool feature of NumPy is that we can index arrays using comparison operators. This Lets us modify or select only elements meeting some condition. To demonstrate this, lets first see what is returned when we try to use comparison operators with our arrays."
   ]
  },
  {
   "cell_type": "code",
   "execution_count": 83,
   "metadata": {},
   "outputs": [
    {
     "data": {
      "text/plain": [
       "array([[ True, False,  True, False,  True],\n",
       "       [False,  True, False,  True, False],\n",
       "       [ True, False,  True, False,  True],\n",
       "       [False,  True, False,  True, False],\n",
       "       [ True, False,  True, False,  True],\n",
       "       [False,  True, False,  True, False],\n",
       "       [ True, False,  True, False,  True],\n",
       "       [False,  True, False,  True, False],\n",
       "       [ True, False,  True, False,  True],\n",
       "       [False,  True, False,  True, False]])"
      ]
     },
     "execution_count": 83,
     "metadata": {},
     "output_type": "execute_result"
    }
   ],
   "source": [
    "C%2 == 0"
   ]
  },
  {
   "cell_type": "markdown",
   "metadata": {},
   "source": [
    "We get back an array of the same shape telling us which values in ***C*** satisfy the condition C%2==0 (even values). Recall that 0 is an alias for False, and 1 is an alias for True. Because of this, we can actually call the sum function right off of this array, which will evaluate to the total number of even numbers in ***C***."
   ]
  },
  {
   "cell_type": "code",
   "execution_count": 84,
   "metadata": {},
   "outputs": [
    {
     "data": {
      "text/plain": [
       "np.int64(25)"
      ]
     },
     "execution_count": 84,
     "metadata": {},
     "output_type": "execute_result"
    }
   ],
   "source": [
    "(C%2 == 0).sum()"
   ]
  },
  {
   "cell_type": "markdown",
   "metadata": {},
   "source": [
    "Something we'll find ourselves doing more often is passing the boolean array as an index. What this will do is filter out the False elements and only leave us with the elements corresponding to True (even values in our case)."
   ]
  },
  {
   "cell_type": "code",
   "execution_count": 85,
   "metadata": {},
   "outputs": [
    {
     "data": {
      "text/plain": [
       "array([ 0,  2,  4,  6,  8, 10, 12, 14, 16, 18, 20, 22, 24, 26, 28, 30, 32,\n",
       "       34, 36, 38, 40, 42, 44, 46, 48])"
      ]
     },
     "execution_count": 85,
     "metadata": {},
     "output_type": "execute_result"
    }
   ],
   "source": [
    "C[C%2 == 0]"
   ]
  },
  {
   "cell_type": "markdown",
   "metadata": {},
   "source": [
    "### Different examples"
   ]
  },
  {
   "cell_type": "code",
   "execution_count": 86,
   "metadata": {},
   "outputs": [
    {
     "name": "stdout",
     "output_type": "stream",
     "text": [
      "[[ 0  1  2  3  4  5  6  7  8  9]\n",
      " [10 11 12 13 14 15 16 17 18 19]\n",
      " [20 21 22 23 24 25 26 27 28 29]\n",
      " [30 31 32 33 34 35 36 37 38 39]\n",
      " [40 41 42 43 44 45 46 47 48 49]\n",
      " [50 51 52 53 54 55 56 57 58 59]\n",
      " [60 61 62 63 64 65 66 67 68 69]\n",
      " [70 71 72 73 74 75 76 77 78 79]\n",
      " [80 81 82 83 84 85 86 87 88 89]\n",
      " [90 91 92 93 94 95 96 97 98 99]]\n",
      "[[ True False False False False False False False False False]\n",
      " [ True False False False False False False False False False]\n",
      " [ True False False False False False False False False False]\n",
      " [ True False False False False False False False False False]\n",
      " [ True False False False False False False False False False]\n",
      " [ True False False False False False False False False False]\n",
      " [ True False False False False False False False False False]\n",
      " [ True False False False False False False False False False]\n",
      " [ True False False False False False False False False False]\n",
      " [ True False False False False False False False False False]]\n",
      "10\n",
      "[ 0 10 20 30 40 50 60 70 80 90]\n"
     ]
    }
   ],
   "source": [
    "\"\"\" Different examples \"\"\"\n",
    "C = np.arange(100).reshape(10, 10)\n",
    "print(C)\n",
    "print(C%10 == 0)\n",
    "print((C%10 == 0).sum())\n",
    "print(C[C%10 == 0])"
   ]
  },
  {
   "cell_type": "markdown",
   "metadata": {},
   "source": [
    "Congratulations! You now know how to create NumPy arrays, perform common operations on them, and how to index them. There's so much that NumPy can do, but this should cover just about all that you'll need to succeed in this course. Other popular Python libraries used for data science such as Pandas and Matplotlib are built on top of NumPy, so you'll be using a lot of these features alongside those libraries. "
   ]
  }
 ],
 "metadata": {
  "kernelspec": {
   "display_name": "Python 3",
   "language": "python",
   "name": "python3"
  },
  "language_info": {
   "codemirror_mode": {
    "name": "ipython",
    "version": 3
   },
   "file_extension": ".py",
   "mimetype": "text/x-python",
   "name": "python",
   "nbconvert_exporter": "python",
   "pygments_lexer": "ipython3",
   "version": "3.12.4"
  }
 },
 "nbformat": 4,
 "nbformat_minor": 4
}
